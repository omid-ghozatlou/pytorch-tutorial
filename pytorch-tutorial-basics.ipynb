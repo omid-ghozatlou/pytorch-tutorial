{
 "cells": [
  {
   "cell_type": "markdown",
   "metadata": {},
   "source": [
    "## PyTorch Basics\n",
    "\n",
    "Author: Tobias Uelwer"
   ]
  },
  {
   "cell_type": "markdown",
   "metadata": {},
   "source": [
    "### What is PyTorch?\n",
    "- PyTorch is a Python Deep Learning library\n",
    "- Allows us to easily train neural networks, i.e. calculate gradients und update weights\n",
    "- Developed by Facebook's artificial-intelligence research group\n",
    "- Works hand in hand with NumPy arrays\n",
    "\n",
    "(See: https://pytorch.org/ and https://en.wikipedia.org/wiki/PyTorch)"
   ]
  },
  {
   "cell_type": "code",
   "execution_count": 1,
   "metadata": {},
   "outputs": [
    {
     "name": "stdout",
     "output_type": "stream",
     "text": [
      "1.0.0\n"
     ]
    }
   ],
   "source": [
    "import numpy as np\n",
    "import matplotlib.pyplot as plt\n",
    "%matplotlib inline\n",
    "\n",
    "import torch\n",
    "print(torch.__version__)"
   ]
  },
  {
   "cell_type": "code",
   "execution_count": 2,
   "metadata": {},
   "outputs": [
    {
     "data": {
      "text/plain": [
       "tensor([[1., 1.],\n",
       "        [1., 1.]], dtype=torch.float64)"
      ]
     },
     "execution_count": 2,
     "metadata": {},
     "output_type": "execute_result"
    }
   ],
   "source": [
    "# we create a new PyTorch tensor from a NumPy tensor\n",
    "torch.from_numpy(np.ones((2,2)))\n",
    "# we can instantanly access its values unlike we are used to from tensorflow"
   ]
  },
  {
   "cell_type": "code",
   "execution_count": 3,
   "metadata": {},
   "outputs": [
    {
     "data": {
      "text/plain": [
       "tensor([[ 0.8605, -0.0954,  0.8896, -0.8866,  1.4043],\n",
       "        [ 0.8485,  0.7975, -0.2924,  0.3581,  0.1260],\n",
       "        [ 0.5983, -1.1450, -0.8016,  0.6016,  0.7178],\n",
       "        [ 0.6957, -0.4094,  0.2497,  0.5142, -1.7617]])"
      ]
     },
     "execution_count": 3,
     "metadata": {},
     "output_type": "execute_result"
    }
   ],
   "source": [
    "# generate a random tensor\n",
    "A = torch.randn(4,5)\n",
    "A"
   ]
  },
  {
   "cell_type": "code",
   "execution_count": 4,
   "metadata": {},
   "outputs": [
    {
     "data": {
      "text/plain": [
       "tensor(0.8605)"
      ]
     },
     "execution_count": 4,
     "metadata": {},
     "output_type": "execute_result"
    }
   ],
   "source": [
    "# indexing\n",
    "A[0,0]"
   ]
  },
  {
   "cell_type": "code",
   "execution_count": 5,
   "metadata": {},
   "outputs": [
    {
     "data": {
      "text/plain": [
       "tensor([ 0.8896, -0.2924, -0.8016,  0.2497])"
      ]
     },
     "execution_count": 5,
     "metadata": {},
     "output_type": "execute_result"
    }
   ],
   "source": [
    "# more indexing\n",
    "A[:,2]"
   ]
  },
  {
   "cell_type": "code",
   "execution_count": 6,
   "metadata": {},
   "outputs": [
    {
     "data": {
      "text/plain": [
       "torch.Size([4, 5])"
      ]
     },
     "execution_count": 6,
     "metadata": {},
     "output_type": "execute_result"
    }
   ],
   "source": [
    "# get the shape of A\n",
    "A.shape"
   ]
  },
  {
   "cell_type": "code",
   "execution_count": 7,
   "metadata": {},
   "outputs": [
    {
     "data": {
      "text/plain": [
       "tensor(13.1553)"
      ]
     },
     "execution_count": 7,
     "metadata": {},
     "output_type": "execute_result"
    }
   ],
   "source": [
    "# traces and matrix transpose\n",
    "torch.trace(torch.t(A) @ A)"
   ]
  },
  {
   "cell_type": "code",
   "execution_count": 8,
   "metadata": {},
   "outputs": [
    {
     "data": {
      "text/plain": [
       "13.15528678894043"
      ]
     },
     "execution_count": 8,
     "metadata": {},
     "output_type": "execute_result"
    }
   ],
   "source": [
    "# the function item() returns a simple Python scalar\n",
    "torch.sum(A**2).item()"
   ]
  },
  {
   "cell_type": "code",
   "execution_count": 9,
   "metadata": {},
   "outputs": [
    {
     "data": {
      "text/plain": [
       "tensor([[[ 0.8605, -0.0954,  0.8896, -0.8866,  1.4043,  0.8485,  0.7975,\n",
       "          -0.2924,  0.3581,  0.1260],\n",
       "         [ 0.5983, -1.1450, -0.8016,  0.6016,  0.7178,  0.6957, -0.4094,\n",
       "           0.2497,  0.5142, -1.7617]]])"
      ]
     },
     "execution_count": 9,
     "metadata": {},
     "output_type": "execute_result"
    }
   ],
   "source": [
    "# reshaping\n",
    "A.view(-1,2,10)"
   ]
  },
  {
   "cell_type": "code",
   "execution_count": 10,
   "metadata": {},
   "outputs": [
    {
     "data": {
      "text/plain": [
       "(torch.Size([2, 1, 9, 1]), torch.Size([2, 9]))"
      ]
     },
     "execution_count": 10,
     "metadata": {},
     "output_type": "execute_result"
    }
   ],
   "source": [
    "# flattens a tensor to a vector\n",
    "Ones = torch.ones((2,1,9, 1))\n",
    "Ones.shape, Ones.squeeze().shape"
   ]
  },
  {
   "cell_type": "code",
   "execution_count": 11,
   "metadata": {},
   "outputs": [
    {
     "data": {
      "text/plain": [
       "(torch.Size([1, 9]), torch.Size([9, 1]))"
      ]
     },
     "execution_count": 11,
     "metadata": {},
     "output_type": "execute_result"
    }
   ],
   "source": [
    "# add dimensions\n",
    "torch.ones(9).unsqueeze(0).shape, torch.ones(9).unsqueeze(1).shape"
   ]
  },
  {
   "cell_type": "code",
   "execution_count": 12,
   "metadata": {},
   "outputs": [
    {
     "data": {
      "text/plain": [
       "torch.Size([1, 4, 1, 5, 1])"
      ]
     },
     "execution_count": 12,
     "metadata": {},
     "output_type": "execute_result"
    }
   ],
   "source": [
    "# add new dimensions (this also works with numpy arrays...)\n",
    "A[None, :, None,:, None].shape"
   ]
  },
  {
   "cell_type": "code",
   "execution_count": 13,
   "metadata": {},
   "outputs": [
    {
     "data": {
      "text/plain": [
       "tensor([[0.7405, 0.0091, 0.7913, 0.7860, 1.9720],\n",
       "        [0.7199, 0.6360, 0.0855, 0.1283, 0.0159],\n",
       "        [0.3580, 1.3111, 0.6426, 0.3619, 0.5152],\n",
       "        [0.4840, 0.1676, 0.0623, 0.2644, 3.1037]])"
      ]
     },
     "execution_count": 13,
     "metadata": {},
     "output_type": "execute_result"
    }
   ],
   "source": [
    "# elementwise power\n",
    "torch.pow(A,2)"
   ]
  },
  {
   "cell_type": "code",
   "execution_count": 14,
   "metadata": {},
   "outputs": [
    {
     "data": {
      "text/plain": [
       "tensor([[-0.1502, -2.3494, -0.1170, -0.1204,  0.3395],\n",
       "        [-0.1643, -0.2263, -1.2295, -1.0269, -2.0714],\n",
       "        [-0.5136,  0.1354, -0.2211, -0.5082, -0.3316],\n",
       "        [-0.3628, -0.8930, -1.3877, -0.6652,  0.5663]])"
      ]
     },
     "execution_count": 14,
     "metadata": {},
     "output_type": "execute_result"
    }
   ],
   "source": [
    "# logarithm and absolute value\n",
    "torch.log(torch.abs(A))"
   ]
  },
  {
   "cell_type": "code",
   "execution_count": 15,
   "metadata": {},
   "outputs": [
    {
     "data": {
      "text/plain": [
       "True"
      ]
     },
     "execution_count": 15,
     "metadata": {},
     "output_type": "execute_result"
    }
   ],
   "source": [
    "# all close\n",
    "torch.allclose(torch.log(torch.exp(A)), A)"
   ]
  },
  {
   "cell_type": "markdown",
   "metadata": {},
   "source": [
    "### Automatic differentiation"
   ]
  },
  {
   "cell_type": "code",
   "execution_count": 16,
   "metadata": {},
   "outputs": [
    {
     "data": {
      "text/plain": [
       "tensor([[1., 1.],\n",
       "        [1., 1.]], requires_grad=True)"
      ]
     },
     "execution_count": 16,
     "metadata": {},
     "output_type": "execute_result"
    }
   ],
   "source": [
    "# if we want to calculate gradients we need to specify this\n",
    "# by setting requires_grad=True for each tensor\n",
    "X = torch.ones(2, 2, requires_grad=True)\n",
    "X"
   ]
  },
  {
   "cell_type": "code",
   "execution_count": 17,
   "metadata": {},
   "outputs": [
    {
     "data": {
      "text/plain": [
       "tensor(10.8731, grad_fn=<SumBackward0>)"
      ]
     },
     "execution_count": 17,
     "metadata": {},
     "output_type": "execute_result"
    }
   ],
   "source": [
    "# we build a simple computational graph \n",
    "y = torch.sum(torch.exp(X))\n",
    "y"
   ]
  },
  {
   "cell_type": "code",
   "execution_count": 18,
   "metadata": {},
   "outputs": [
    {
     "data": {
      "text/plain": [
       "tensor([[2.7183, 2.7183],\n",
       "        [2.7183, 2.7183]])"
      ]
     },
     "execution_count": 18,
     "metadata": {},
     "output_type": "execute_result"
    }
   ],
   "source": [
    "# In pytorch gradients are accumulated each time backward() is called.\n",
    "# Keep that in mind!\n",
    "y.backward(retain_graph=True) # don't free the graph buffers after backprop\n",
    "X.grad"
   ]
  },
  {
   "cell_type": "code",
   "execution_count": 19,
   "metadata": {},
   "outputs": [
    {
     "data": {
      "text/plain": [
       "tensor([[2.7183, 2.7183],\n",
       "        [2.7183, 2.7183]])"
      ]
     },
     "execution_count": 19,
     "metadata": {},
     "output_type": "execute_result"
    }
   ],
   "source": [
    "# to suppress this behavior we have to reset the gradients by\n",
    "X.grad.zero_()\n",
    "y.backward(retain_graph=True) # dont free the graph buffers after backprop\n",
    "X.grad"
   ]
  },
  {
   "cell_type": "markdown",
   "metadata": {},
   "source": [
    "### Optimizing functions"
   ]
  },
  {
   "cell_type": "code",
   "execution_count": 20,
   "metadata": {},
   "outputs": [],
   "source": [
    "# define variable\n",
    "x = torch.tensor([2.,2.], requires_grad=True).float()"
   ]
  },
  {
   "cell_type": "markdown",
   "metadata": {},
   "source": [
    "We want to minimize the function $f(x_1, x_2) = 100(x_2-x_1)^2 + (1-x_1)^2$.\n",
    "\n",
    "The function has a minimum at $(1,1)$."
   ]
  },
  {
   "cell_type": "code",
   "execution_count": 21,
   "metadata": {},
   "outputs": [],
   "source": [
    "# define objective\n",
    "f = lambda x: 100*(x[1]-x[0]**2)**2+(1-x[0])**2"
   ]
  },
  {
   "cell_type": "code",
   "execution_count": 22,
   "metadata": {},
   "outputs": [],
   "source": [
    "# instantiate optimizer\n",
    "opt = torch.optim.SGD([x], lr=0.0005)"
   ]
  },
  {
   "cell_type": "code",
   "execution_count": 23,
   "metadata": {},
   "outputs": [
    {
     "name": "stdout",
     "output_type": "stream",
     "text": [
      "Converged after 33995 iterations.\n",
      "Minimum: [1.0011183 1.0022423]\n"
     ]
    }
   ],
   "source": [
    "i = 0\n",
    "while True:\n",
    "    opt.zero_grad()\n",
    "    f_val = f(x)\n",
    "    f_val.backward()\n",
    "    opt.step()\n",
    "    i += 1\n",
    "    if torch.norm(x.grad)<0.001:\n",
    "        print(\"Converged after {} iterations.\".format(i))\n",
    "        print(\"Minimum: {}\".format(str(x.detach().numpy())))\n",
    "        break\n",
    "    if i>100000:\n",
    "        print(\"Maximum number of iterations reached.\")\n",
    "        break"
   ]
  },
  {
   "cell_type": "markdown",
   "metadata": {},
   "source": [
    "## Implementing a linear regression model from scratch"
   ]
  },
  {
   "cell_type": "code",
   "execution_count": 24,
   "metadata": {
    "scrolled": false
   },
   "outputs": [
    {
     "name": "stdout",
     "output_type": "stream",
     "text": [
      "0.412748247385025\n",
      "0.0025663592386990786\n",
      "0.0019450848922133446\n",
      "0.0018027048790827394\n",
      "0.0017700761090964079\n",
      "0.0017625992186367512\n",
      "0.0017608857015147805\n",
      "0.001760492566972971\n",
      "0.0017604026943445206\n",
      "0.0017603819724172354\n"
     ]
    }
   ],
   "source": [
    "# let's implement a simple linear regression model from scratch\n",
    "w = torch.randn(2, requires_grad=True)\n",
    "\n",
    "# generate some data\n",
    "x = torch.rand(100)\n",
    "y = x*2 + torch.randn(100)*0.04\n",
    "\n",
    "# define a simple linear model\n",
    "def pred(x,w):\n",
    "    return torch.t(torch.stack([torch.ones(100),x], dim=0))@w\n",
    "\n",
    "# define mean squared error function\n",
    "def l2(y,y_pred):\n",
    "    return (y_pred-y).pow(2).sum()*(1/len(y_pred))\n",
    "\n",
    "# loss history\n",
    "h = []\n",
    "\n",
    "# apply gradient descent updates to w\n",
    "lr = 0.1\n",
    "for k in range(500):\n",
    "    \n",
    "    y_pred =  pred(x,w)\n",
    "    loss = l2(y_pred, y)\n",
    "    loss.backward()\n",
    "    h += [loss.item()]\n",
    "    if k % 50 == 0:\n",
    "        print(h[-1])\n",
    "        \n",
    "    w.data = w.data -(lr*w.grad)\n",
    "    w.grad.zero_()    "
   ]
  },
  {
   "cell_type": "code",
   "execution_count": 25,
   "metadata": {},
   "outputs": [
    {
     "data": {
      "text/plain": [
       "[<matplotlib.lines.Line2D at 0x7f78951f6f60>]"
      ]
     },
     "execution_count": 25,
     "metadata": {},
     "output_type": "execute_result"
    },
    {
     "data": {
      "image/png": "[encoded data removed]",
      "text/plain": [
       "<Figure size 432x288 with 1 Axes>"
      ]
     },
     "metadata": {
      "needs_background": "light"
     },
     "output_type": "display_data"
    }
   ],
   "source": [
    "x_plot = torch.linspace(0,1)\n",
    "plt.scatter(x,y)\n",
    "plt.plot(x_plot.numpy(), pred(x_plot,w).detach().numpy(), 'r')"
   ]
  },
  {
   "cell_type": "code",
   "execution_count": 26,
   "metadata": {},
   "outputs": [
    {
     "data": {
      "text/plain": [
       "[<matplotlib.lines.Line2D at 0x7f78948e6a20>]"
      ]
     },
     "execution_count": 26,
     "metadata": {},
     "output_type": "execute_result"
    },
    {
     "data": {
      "image/png": "[encoded data removed]",
      "text/plain": [
       "<Figure size 432x288 with 1 Axes>"
      ]
     },
     "metadata": {
      "needs_background": "light"
     },
     "output_type": "display_data"
    }
   ],
   "source": [
    "plt.plot(h)"
   ]
  },
  {
   "cell_type": "markdown",
   "metadata": {},
   "source": [
    "## Implementing a linear regression model - simpler way"
   ]
  },
  {
   "cell_type": "code",
   "execution_count": 27,
   "metadata": {},
   "outputs": [],
   "source": [
    "# generate some data\n",
    "x = torch.rand(100)\n",
    "y = x*2 + torch.randn(100)*0.04"
   ]
  },
  {
   "cell_type": "code",
   "execution_count": 28,
   "metadata": {},
   "outputs": [],
   "source": [
    "x = x.unsqueeze(1)\n",
    "y = y.unsqueeze(1)"
   ]
  },
  {
   "cell_type": "code",
   "execution_count": 29,
   "metadata": {},
   "outputs": [],
   "source": [
    "from torch import nn\n",
    "from torch import optim"
   ]
  },
  {
   "cell_type": "code",
   "execution_count": 30,
   "metadata": {},
   "outputs": [],
   "source": [
    "model = nn.Linear(in_features=1, out_features=1) # define model\n",
    "\n",
    "criterion = nn.MSELoss() # instantiate loss \n",
    "\n",
    "optimizer = optim.SGD(model.parameters(), lr=0.1) # instantiate optimizer"
   ]
  },
  {
   "cell_type": "code",
   "execution_count": 31,
   "metadata": {},
   "outputs": [
    {
     "name": "stdout",
     "output_type": "stream",
     "text": [
      "3.0019092559814453\n",
      "0.10292942076921463\n",
      "0.024384859949350357\n",
      "0.00651630200445652\n",
      "0.00245128502137959\n",
      "0.0015265073161572218\n",
      "0.0013161251554265618\n",
      "0.0012682635569944978\n",
      "0.0012573759304359555\n",
      "0.0012548982631415129\n"
     ]
    }
   ],
   "source": [
    "for k in range(0, 500):\n",
    "    # set the parameter gradients to zero\n",
    "    optimizer.zero_grad()\n",
    "\n",
    "    # forward pass\n",
    "    outputs = model(x)\n",
    "        \n",
    "    # training loss\n",
    "    loss = criterion(outputs, y)\n",
    "    \n",
    "    if k % 50 == 0:\n",
    "        print(loss.item())\n",
    "        \n",
    "    # backward pass\n",
    "    loss.backward()\n",
    "    optimizer.step()"
   ]
  },
  {
   "cell_type": "code",
   "execution_count": 32,
   "metadata": {},
   "outputs": [
    {
     "data": {
      "text/plain": [
       "[Parameter containing:\n",
       " tensor([[1.9914]], requires_grad=True), Parameter containing:\n",
       " tensor([0.0100], requires_grad=True)]"
      ]
     },
     "execution_count": 32,
     "metadata": {},
     "output_type": "execute_result"
    }
   ],
   "source": [
    "list(model.parameters())"
   ]
  }
 ],
 "metadata": {
  "kernelspec": {
   "display_name": "Python 3",
   "language": "python",
   "name": "python3"
  },
  "language_info": {
   "codemirror_mode": {
    "name": "ipython",
    "version": 3
   },
   "file_extension": ".py",
   "mimetype": "text/x-python",
   "name": "python",
   "nbconvert_exporter": "python",
   "pygments_lexer": "ipython3",
   "version": "3.6.7"
  }
 },
 "nbformat": 4,
 "nbformat_minor": 2
}
