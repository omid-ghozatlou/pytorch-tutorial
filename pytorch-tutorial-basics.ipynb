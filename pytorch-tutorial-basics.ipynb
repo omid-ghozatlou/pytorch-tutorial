{
 "cells": [
  {
   "cell_type": "markdown",
   "metadata": {},
   "source": [
    "## PyTorch Basics\n",
    "\n",
    "Author: Tobias Uelwer"
   ]
  },
  {
   "cell_type": "markdown",
   "metadata": {},
   "source": [
    "### What is PyTorch?\n",
    "- PyTorch is a Python Deep Learning library\n",
    "- Allows us to easily train neural networks, i.e. calculate gradients und update weights\n",
    "- Developed by Facebook's artificial-intelligence research group\n",
    "- Works hand in hand with NumPy arrays\n",
    "\n",
    "(See: https://pytorch.org/ and https://en.wikipedia.org/wiki/PyTorch)"
   ]
  },
  {
   "cell_type": "code",
   "execution_count": 1,
   "metadata": {},
   "outputs": [
    {
     "name": "stdout",
     "output_type": "stream",
     "text": [
      "1.3.1\n"
     ]
    }
   ],
   "source": [
    "import numpy as np\n",
    "import matplotlib.pyplot as plt\n",
    "%matplotlib inline\n",
    "\n",
    "import torch\n",
    "print(torch.__version__)"
   ]
  },
  {
   "cell_type": "code",
   "execution_count": 2,
   "metadata": {},
   "outputs": [
    {
     "data": {
      "text/plain": [
       "tensor([[1., 1.],\n",
       "        [1., 1.]], dtype=torch.float64)"
      ]
     },
     "execution_count": 2,
     "metadata": {},
     "output_type": "execute_result"
    }
   ],
   "source": [
    "# we create a new PyTorch tensor from a NumPy tensor\n",
    "torch.from_numpy(np.ones((2,2)))\n",
    "# we can instantanly access its values unlike we are used to from tensorflow"
   ]
  },
  {
   "cell_type": "code",
   "execution_count": 3,
   "metadata": {},
   "outputs": [
    {
     "data": {
      "text/plain": [
       "tensor([[ 2.0933,  0.6117, -2.2537, -1.4907, -1.5454],\n",
       "        [ 0.4723, -0.0103,  0.9878,  0.0322, -1.3381],\n",
       "        [ 0.3862,  0.4862,  0.7080,  1.3480, -0.6752],\n",
       "        [-0.4018,  2.1530, -0.3331, -0.3856, -1.1122]])"
      ]
     },
     "execution_count": 3,
     "metadata": {},
     "output_type": "execute_result"
    }
   ],
   "source": [
    "# generate a random tensor\n",
    "A = torch.randn(4,5)\n",
    "A"
   ]
  },
  {
   "cell_type": "code",
   "execution_count": 4,
   "metadata": {},
   "outputs": [
    {
     "data": {
      "text/plain": [
       "tensor(2.0933)"
      ]
     },
     "execution_count": 4,
     "metadata": {},
     "output_type": "execute_result"
    }
   ],
   "source": [
    "# indexing\n",
    "A[0,0]"
   ]
  },
  {
   "cell_type": "code",
   "execution_count": 5,
   "metadata": {},
   "outputs": [
    {
     "data": {
      "text/plain": [
       "tensor([-2.2537,  0.9878,  0.7080, -0.3331])"
      ]
     },
     "execution_count": 5,
     "metadata": {},
     "output_type": "execute_result"
    }
   ],
   "source": [
    "# more indexing\n",
    "A[:,2]"
   ]
  },
  {
   "cell_type": "code",
   "execution_count": 6,
   "metadata": {},
   "outputs": [
    {
     "data": {
      "text/plain": [
       "torch.Size([4, 5])"
      ]
     },
     "execution_count": 6,
     "metadata": {},
     "output_type": "execute_result"
    }
   ],
   "source": [
    "# get the shape of A\n",
    "A.shape"
   ]
  },
  {
   "cell_type": "code",
   "execution_count": 7,
   "metadata": {},
   "outputs": [
    {
     "data": {
      "text/plain": [
       "tensor(26.8895)"
      ]
     },
     "execution_count": 7,
     "metadata": {},
     "output_type": "execute_result"
    }
   ],
   "source": [
    "# traces and matrix transpose\n",
    "torch.trace(torch.t(A) @ A)"
   ]
  },
  {
   "cell_type": "code",
   "execution_count": 8,
   "metadata": {},
   "outputs": [
    {
     "data": {
      "text/plain": [
       "torch.Tensor"
      ]
     },
     "execution_count": 8,
     "metadata": {},
     "output_type": "execute_result"
    }
   ],
   "source": [
    "# the function item() returns a simple Python scalar\n",
    "type(torch.sum(A**2))"
   ]
  },
  {
   "cell_type": "code",
   "execution_count": 9,
   "metadata": {},
   "outputs": [
    {
     "data": {
      "text/plain": [
       "tensor([[[ 2.0933,  0.6117, -2.2537, -1.4907, -1.5454,  0.4723, -0.0103,\n",
       "           0.9878,  0.0322, -1.3381],\n",
       "         [ 0.3862,  0.4862,  0.7080,  1.3480, -0.6752, -0.4018,  2.1530,\n",
       "          -0.3331, -0.3856, -1.1122]]])"
      ]
     },
     "execution_count": 9,
     "metadata": {},
     "output_type": "execute_result"
    }
   ],
   "source": [
    "# reshaping\n",
    "A.view(-1,2,10)"
   ]
  },
  {
   "cell_type": "code",
   "execution_count": 10,
   "metadata": {},
   "outputs": [
    {
     "data": {
      "text/plain": [
       "(torch.Size([2, 1, 9, 1]), torch.Size([2, 9]))"
      ]
     },
     "execution_count": 10,
     "metadata": {},
     "output_type": "execute_result"
    }
   ],
   "source": [
    "# flattens a tensor to a vector\n",
    "Ones = torch.ones((2,1,9, 1))\n",
    "Ones.shape, Ones.squeeze().shape"
   ]
  },
  {
   "cell_type": "code",
   "execution_count": 11,
   "metadata": {},
   "outputs": [
    {
     "data": {
      "text/plain": [
       "(torch.Size([1, 9]), torch.Size([9, 1]))"
      ]
     },
     "execution_count": 11,
     "metadata": {},
     "output_type": "execute_result"
    }
   ],
   "source": [
    "# add dimensions\n",
    "torch.ones(9).unsqueeze(0).shape, torch.ones(9).unsqueeze(1).shape"
   ]
  },
  {
   "cell_type": "code",
   "execution_count": 12,
   "metadata": {},
   "outputs": [
    {
     "data": {
      "text/plain": [
       "torch.Size([1, 4, 1, 5, 1])"
      ]
     },
     "execution_count": 12,
     "metadata": {},
     "output_type": "execute_result"
    }
   ],
   "source": [
    "# add new dimensions (this also works with numpy arrays...)\n",
    "A[None, :, None,:, None].shape"
   ]
  },
  {
   "cell_type": "code",
   "execution_count": 13,
   "metadata": {},
   "outputs": [
    {
     "data": {
      "text/plain": [
       "tensor([[4.3818e+00, 3.7416e-01, 5.0791e+00, 2.2223e+00, 2.3883e+00],\n",
       "        [2.2306e-01, 1.0541e-04, 9.7578e-01, 1.0400e-03, 1.7906e+00],\n",
       "        [1.4913e-01, 2.3634e-01, 5.0130e-01, 1.8172e+00, 4.5586e-01],\n",
       "        [1.6147e-01, 4.6353e+00, 1.1097e-01, 1.4872e-01, 1.2370e+00]])"
      ]
     },
     "execution_count": 13,
     "metadata": {},
     "output_type": "execute_result"
    }
   ],
   "source": [
    "# elementwise power\n",
    "A**2"
   ]
  },
  {
   "cell_type": "code",
   "execution_count": 14,
   "metadata": {},
   "outputs": [
    {
     "data": {
      "text/plain": [
       "tensor([[ 0.7387, -0.4915,  0.8126,  0.3993,  0.4353],\n",
       "        [-0.7502, -4.5788, -0.0123, -3.4343,  0.2913],\n",
       "        [-0.9515, -0.7212, -0.3453,  0.2986, -0.3928],\n",
       "        [-0.9117,  0.7668, -1.0993, -0.9528,  0.1064]])"
      ]
     },
     "execution_count": 14,
     "metadata": {},
     "output_type": "execute_result"
    }
   ],
   "source": [
    "# logarithm and absolute value\n",
    "torch.log(torch.abs(A))"
   ]
  },
  {
   "cell_type": "code",
   "execution_count": 15,
   "metadata": {},
   "outputs": [
    {
     "data": {
      "text/plain": [
       "True"
      ]
     },
     "execution_count": 15,
     "metadata": {},
     "output_type": "execute_result"
    }
   ],
   "source": [
    "# all close\n",
    "torch.allclose(torch.log(torch.exp(A)), A)"
   ]
  },
  {
   "cell_type": "code",
   "execution_count": 16,
   "metadata": {},
   "outputs": [
    {
     "data": {
      "text/plain": [
       "tensor([[ True,  True,  True,  True,  True],\n",
       "        [ True, False,  True, False,  True],\n",
       "        [False,  True, False,  True,  True],\n",
       "        [False,  True, False, False,  True]])"
      ]
     },
     "execution_count": 16,
     "metadata": {},
     "output_type": "execute_result"
    }
   ],
   "source": [
    "torch.log(torch.exp(A))== A"
   ]
  },
  {
   "cell_type": "markdown",
   "metadata": {},
   "source": [
    "### Automatic differentiation"
   ]
  },
  {
   "cell_type": "code",
   "execution_count": 17,
   "metadata": {},
   "outputs": [
    {
     "data": {
      "text/plain": [
       "tensor([[1., 1.],\n",
       "        [1., 1.]], requires_grad=True)"
      ]
     },
     "execution_count": 17,
     "metadata": {},
     "output_type": "execute_result"
    }
   ],
   "source": [
    "# if we want to calculate gradients we need to specify this\n",
    "# by setting requires_grad=True for each tensor\n",
    "X = torch.ones(2, 2, requires_grad=True)\n",
    "X"
   ]
  },
  {
   "cell_type": "code",
   "execution_count": 18,
   "metadata": {},
   "outputs": [
    {
     "data": {
      "text/plain": [
       "tensor(10.8731, grad_fn=<SumBackward0>)"
      ]
     },
     "execution_count": 18,
     "metadata": {},
     "output_type": "execute_result"
    }
   ],
   "source": [
    "# we build a simple computational graph \n",
    "y = torch.sum(torch.exp(X))\n",
    "y"
   ]
  },
  {
   "cell_type": "code",
   "execution_count": 19,
   "metadata": {},
   "outputs": [
    {
     "data": {
      "text/plain": [
       "tensor([[2.7183, 2.7183],\n",
       "        [2.7183, 2.7183]])"
      ]
     },
     "execution_count": 19,
     "metadata": {},
     "output_type": "execute_result"
    }
   ],
   "source": [
    "# In pytorch gradients are accumulated each time backward() is called.\n",
    "# Keep that in mind!\n",
    "y.backward(retain_graph=True) # don't free the graph buffers after backprop\n",
    "X.grad"
   ]
  },
  {
   "cell_type": "code",
   "execution_count": 20,
   "metadata": {},
   "outputs": [
    {
     "data": {
      "text/plain": [
       "tensor([[2.7183, 2.7183],\n",
       "        [2.7183, 2.7183]])"
      ]
     },
     "execution_count": 20,
     "metadata": {},
     "output_type": "execute_result"
    }
   ],
   "source": [
    "# to suppress this behavior we have to reset the gradients by\n",
    "X.grad.zero_()\n",
    "y.backward(retain_graph=True) # dont free the graph buffers after backprop\n",
    "X.grad"
   ]
  },
  {
   "cell_type": "markdown",
   "metadata": {},
   "source": [
    "### Optimizing functions"
   ]
  },
  {
   "cell_type": "code",
   "execution_count": 21,
   "metadata": {},
   "outputs": [],
   "source": [
    "# define variable\n",
    "x = torch.tensor([2.,2.], requires_grad=True).float()"
   ]
  },
  {
   "cell_type": "markdown",
   "metadata": {},
   "source": [
    "We want to minimize the function $f(x_1, x_2) = 100(x_2-x_1)^2 + (1-x_1)^2$.\n",
    "\n",
    "The function has a minimum at $(1,1)$."
   ]
  },
  {
   "cell_type": "code",
   "execution_count": 22,
   "metadata": {},
   "outputs": [],
   "source": [
    "# define objective\n",
    "f = lambda x: 100*(x[1]-x[0]**2)**2+(1-x[0])**2"
   ]
  },
  {
   "cell_type": "code",
   "execution_count": 23,
   "metadata": {},
   "outputs": [],
   "source": [
    "# instantiate optimizer\n",
    "opt = torch.optim.Adam([x])"
   ]
  },
  {
   "cell_type": "code",
   "execution_count": 24,
   "metadata": {},
   "outputs": [
    {
     "name": "stdout",
     "output_type": "stream",
     "text": [
      "Converged after 15729 iterations.\n",
      "Minimum: [1.0009778 1.0019593]\n"
     ]
    }
   ],
   "source": [
    "i = 0\n",
    "while True:\n",
    "    opt.zero_grad()\n",
    "    f_val = f(x)\n",
    "    f_val.backward()\n",
    "    opt.step()\n",
    "    i += 1\n",
    "    if torch.norm(x.grad)<0.001:\n",
    "        print(\"Converged after {} iterations.\".format(i))\n",
    "        print(\"Minimum: {}\".format(str(x.detach().numpy())))\n",
    "        break\n",
    "    if i>100000:\n",
    "        print(\"Maximum number of iterations reached.\")\n",
    "        break"
   ]
  },
  {
   "cell_type": "markdown",
   "metadata": {},
   "source": [
    "## Implementing a linear regression model from scratch"
   ]
  },
  {
   "cell_type": "code",
   "execution_count": 25,
   "metadata": {
    "scrolled": false
   },
   "outputs": [
    {
     "name": "stdout",
     "output_type": "stream",
     "text": [
      "15.361172676086426\n",
      "0.0014929436147212982\n",
      "0.00149244733620435\n",
      "0.0014923119451850653\n",
      "0.0014922742266207933\n",
      "0.0014922652626410127\n",
      "0.0014922613045200706\n",
      "0.0014922615373507142\n",
      "0.0014922613045200706\n",
      "0.0014922606060281396\n"
     ]
    }
   ],
   "source": [
    "# let's implement a simple linear regression model from scratch\n",
    "w = torch.randn(2, requires_grad=True)\n",
    "\n",
    "# generate some data\n",
    "x = torch.rand(100)\n",
    "y = x*2 + torch.randn(100)*0.04 +1\n",
    "\n",
    "# define a simple linear model\n",
    "def pred(x,w):\n",
    "    return torch.t(torch.stack([torch.ones(100),x], dim=0))@w\n",
    "\n",
    "# define mean squared error function\n",
    "def l2(y,y_pred):\n",
    "    return (y_pred-y).pow(2).sum()*(1/len(y_pred))\n",
    "\n",
    "# loss history\n",
    "h = []\n",
    "\n",
    "# apply gradient descent updates to w\n",
    "lr = 0.1\n",
    "for k in range(500):\n",
    "    \n",
    "    y_pred = pred(x,w)\n",
    "    loss = l2(y_pred, y)\n",
    "    loss.backward()\n",
    "    h += [loss.item()]\n",
    "    if k % 50 == 0:\n",
    "        print(h[-1])\n",
    "        \n",
    "    w.data = w.data -(lr*w.grad)\n",
    "    w.grad.zero_()    "
   ]
  },
  {
   "cell_type": "code",
   "execution_count": 26,
   "metadata": {},
   "outputs": [
    {
     "data": {
      "text/plain": [
       "[<matplotlib.lines.Line2D at 0x128328d68>]"
      ]
     },
     "execution_count": 26,
     "metadata": {},
     "output_type": "execute_result"
    },
    {
     "data": {
      "image/png": "[encoded data removed]",
      "text/plain": [
       "<Figure size 432x288 with 1 Axes>"
      ]
     },
     "metadata": {
      "needs_background": "light"
     },
     "output_type": "display_data"
    }
   ],
   "source": [
    "x_plot = torch.linspace(0,1)\n",
    "plt.scatter(x,y)\n",
    "plt.plot(x_plot.numpy(), pred(x_plot,w).detach().numpy(), 'r')"
   ]
  },
  {
   "cell_type": "code",
   "execution_count": 27,
   "metadata": {},
   "outputs": [
    {
     "data": {
      "image/png": "[encoded data removed]",
      "text/plain": [
       "<Figure size 432x288 with 1 Axes>"
      ]
     },
     "metadata": {
      "needs_background": "light"
     },
     "output_type": "display_data"
    }
   ],
   "source": [
    "plt.plot(h);"
   ]
  },
  {
   "cell_type": "code",
   "execution_count": 28,
   "metadata": {},
   "outputs": [
    {
     "data": {
      "text/plain": [
       "tensor([0.9936, 2.0087], requires_grad=True)"
      ]
     },
     "execution_count": 28,
     "metadata": {},
     "output_type": "execute_result"
    }
   ],
   "source": [
    "w"
   ]
  },
  {
   "cell_type": "markdown",
   "metadata": {},
   "source": [
    "## Implementing a linear regression model - simpler way"
   ]
  },
  {
   "cell_type": "code",
   "execution_count": 29,
   "metadata": {},
   "outputs": [],
   "source": [
    "# generate some data\n",
    "x = torch.rand(100)\n",
    "y = x*2 + torch.randn(100)*0.04"
   ]
  },
  {
   "cell_type": "code",
   "execution_count": 30,
   "metadata": {},
   "outputs": [],
   "source": [
    "x = x.unsqueeze(1)\n",
    "y = y.unsqueeze(1)"
   ]
  },
  {
   "cell_type": "code",
   "execution_count": 31,
   "metadata": {},
   "outputs": [],
   "source": [
    "from torch import nn\n",
    "from torch import optim"
   ]
  },
  {
   "cell_type": "code",
   "execution_count": 32,
   "metadata": {},
   "outputs": [],
   "source": [
    "model = nn.Linear(in_features=1, out_features=1) # define model\n",
    "\n",
    "criterion = nn.MSELoss() # instantiate loss \n",
    "\n",
    "optimizer = optim.Adam(model.parameters(), lr=0.1) # instantiate optimizer"
   ]
  },
  {
   "cell_type": "code",
   "execution_count": 33,
   "metadata": {},
   "outputs": [
    {
     "name": "stdout",
     "output_type": "stream",
     "text": [
      "0.2700481712818146\n",
      "0.0026580756530165672\n",
      "0.0013917061733081937\n",
      "0.0013886207016184926\n",
      "0.0013886167434975505\n",
      "0.0013886160450056195\n",
      "0.0013886166270822287\n",
      "0.0013886165106669068\n",
      "0.0013886166270822287\n",
      "0.0013886166270822287\n"
     ]
    }
   ],
   "source": [
    "for k in range(0, 500):\n",
    "    # set the parameter gradients to zero\n",
    "    optimizer.zero_grad()\n",
    "\n",
    "    # forward pass\n",
    "    outputs = model(x)\n",
    "        \n",
    "    # training loss\n",
    "    loss = criterion(outputs, y)\n",
    "    \n",
    "    if k % 50 == 0:\n",
    "        print(loss.item())\n",
    "        \n",
    "    # backward pass\n",
    "    loss.backward()\n",
    "    optimizer.step()"
   ]
  },
  {
   "cell_type": "code",
   "execution_count": 34,
   "metadata": {
    "scrolled": true
   },
   "outputs": [
    {
     "data": {
      "text/plain": [
       "[Parameter containing:\n",
       " tensor([[1.9922]], requires_grad=True), Parameter containing:\n",
       " tensor([0.0092], requires_grad=True)]"
      ]
     },
     "execution_count": 34,
     "metadata": {},
     "output_type": "execute_result"
    }
   ],
   "source": [
    "list(model.parameters())"
   ]
  },
  {
   "cell_type": "markdown",
   "metadata": {},
   "source": [
    "## Fitting a neural network regression model"
   ]
  },
  {
   "cell_type": "code",
   "execution_count": 35,
   "metadata": {},
   "outputs": [],
   "source": [
    "# generate some more complicated data\n",
    "x = 20*torch.rand(100)\n",
    "y = torch.sin(x) + torch.randn(100)*0.04"
   ]
  },
  {
   "cell_type": "code",
   "execution_count": 36,
   "metadata": {},
   "outputs": [],
   "source": [
    "x = x.unsqueeze(1)\n",
    "y = y.unsqueeze(1)"
   ]
  },
  {
   "cell_type": "code",
   "execution_count": 37,
   "metadata": {},
   "outputs": [],
   "source": [
    "model = nn.Sequential(\n",
    "    nn.Linear(in_features=1, out_features=200),\n",
    "    nn.Tanh(),\n",
    "    nn.Linear(in_features=200, out_features=1)\n",
    ") # define model\n",
    "\n",
    "criterion = nn.MSELoss() # instantiate loss \n",
    "\n",
    "optimizer = optim.Adam(model.parameters()) # instantiate optimizer"
   ]
  },
  {
   "cell_type": "code",
   "execution_count": 38,
   "metadata": {},
   "outputs": [
    {
     "name": "stdout",
     "output_type": "stream",
     "text": [
      "0.6527833342552185\n",
      "0.3643264174461365\n",
      "0.3463611602783203\n",
      "0.33593878149986267\n",
      "0.3232927918434143\n",
      "0.3049491345882416\n",
      "0.283927857875824\n",
      "0.22613145411014557\n",
      "0.1554427444934845\n",
      "0.10180167853832245\n",
      "0.06490174680948257\n",
      "0.03803000971674919\n",
      "0.021298686042428017\n",
      "0.011413037776947021\n",
      "0.006340168882161379\n",
      "0.00404977984726429\n",
      "0.003032884793356061\n",
      "0.002589214127510786\n",
      "0.002390469191595912\n",
      "0.0022968605626374483\n"
     ]
    }
   ],
   "source": [
    "for k in range(0, 10000):\n",
    "    # set the parameter gradients to zero\n",
    "    optimizer.zero_grad()\n",
    "\n",
    "    # forward pass\n",
    "    outputs = model(x)\n",
    "        \n",
    "    # training loss\n",
    "    loss = criterion(outputs, y)\n",
    "    \n",
    "    if k % 500 == 0:\n",
    "        print(loss.item())\n",
    "        \n",
    "    # backward pass\n",
    "    loss.backward()\n",
    "    optimizer.step()"
   ]
  },
  {
   "cell_type": "code",
   "execution_count": 39,
   "metadata": {},
   "outputs": [
    {
     "data": {
      "image/png": "[encoded data removed]",
      "text/plain": [
       "<Figure size 432x288 with 1 Axes>"
      ]
     },
     "metadata": {
      "needs_background": "light"
     },
     "output_type": "display_data"
    }
   ],
   "source": [
    "x_plot = torch.linspace(0,20)[:,None]\n",
    "plt.scatter(x,y)\n",
    "plt.plot(x_plot.numpy(), model(x_plot).detach().numpy(), 'r');"
   ]
  },
  {
   "cell_type": "code",
   "execution_count": null,
   "metadata": {},
   "outputs": [],
   "source": []
  },
  {
   "cell_type": "code",
   "execution_count": null,
   "metadata": {},
   "outputs": [],
   "source": []
  }
 ],
 "metadata": {
  "kernelspec": {
   "display_name": "Python 3",
   "language": "python",
   "name": "python3"
  },
  "language_info": {
   "codemirror_mode": {
    "name": "ipython",
    "version": 3
   },
   "file_extension": ".py",
   "mimetype": "text/x-python",
   "name": "python",
   "nbconvert_exporter": "python",
   "pygments_lexer": "ipython3",
   "version": "3.7.3"
  }
 },
 "nbformat": 4,
 "nbformat_minor": 2
}
