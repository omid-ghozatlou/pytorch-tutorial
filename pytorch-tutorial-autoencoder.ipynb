{
 "cells": [
  {
   "cell_type": "markdown",
   "metadata": {},
   "source": [
    "## Implementing an Autoencoder in PyTorch\n"
   ]
  },
  {
   "cell_type": "code",
   "execution_count": 1,
   "metadata": {},
   "outputs": [],
   "source": [
    "import numpy as np\n",
    "import matplotlib.pyplot as plt\n",
    "%matplotlib inline\n",
    "\n",
    "import torch\n",
    "import torch.nn as nn\n",
    "import torch.optim as optim\n",
    "import torch.utils.data\n",
    "import torchvision\n",
    "import torchvision.transforms as transforms"
   ]
  },
  {
   "cell_type": "code",
   "execution_count": 2,
   "metadata": {},
   "outputs": [
    {
     "name": "stdout",
     "output_type": "stream",
     "text": [
      "Encoder(\n",
      "  (layer1): Sequential(\n",
      "    (0): Linear(in_features=784, out_features=300, bias=True)\n",
      "    (1): ReLU()\n",
      "  )\n",
      "  (layer2): Sequential(\n",
      "    (0): Linear(in_features=300, out_features=100, bias=True)\n",
      "    (1): Sigmoid()\n",
      "  )\n",
      ")\n"
     ]
    }
   ],
   "source": [
    "class Encoder(nn.Module):\n",
    "    def __init__(self):\n",
    "        \"\"\"Constructor\"\"\"\n",
    "        super(Encoder, self).__init__()\n",
    "        self.layer1 = nn.Sequential(\n",
    "            nn.Linear(28*28, 300),\n",
    "            nn.ReLU())\n",
    "        self.layer2 = nn.Sequential(\n",
    "            nn.Linear(300, 100),\n",
    "            nn.Sigmoid()\n",
    "        )\n",
    "\n",
    "    def forward(self, x):\n",
    "        \"\"\"Defines a forward pass through the network\"\"\"\n",
    "        x = self.layer1(x)\n",
    "        x = self.layer2(x)\n",
    "        return x\n",
    "    \n",
    "E = Encoder()\n",
    "print(E)"
   ]
  },
  {
   "cell_type": "code",
   "execution_count": 3,
   "metadata": {},
   "outputs": [
    {
     "name": "stdout",
     "output_type": "stream",
     "text": [
      "Decoder(\n",
      "  (layer1): Sequential(\n",
      "    (0): Linear(in_features=100, out_features=300, bias=True)\n",
      "    (1): ReLU()\n",
      "  )\n",
      "  (layer2): Sequential(\n",
      "    (0): Linear(in_features=300, out_features=784, bias=True)\n",
      "    (1): Sigmoid()\n",
      "  )\n",
      ")\n"
     ]
    }
   ],
   "source": [
    "class Decoder(nn.Module):\n",
    "    def __init__(self):\n",
    "        \"\"\"Constructor\"\"\"\n",
    "        super(Decoder, self).__init__()\n",
    "        self.layer1 = nn.Sequential(\n",
    "            nn.Linear(100, 300),\n",
    "            nn.ReLU())\n",
    "        self.layer2 = nn.Sequential(\n",
    "            nn.Linear(300, 28*28),\n",
    "            nn.Sigmoid()\n",
    "        )\n",
    "\n",
    "    def forward(self, x):\n",
    "        \"\"\"Defines a forward pass through the network\"\"\"\n",
    "        x = self.layer1(x)\n",
    "        x = self.layer2(x)\n",
    "        return x\n",
    "    \n",
    "D = Decoder()\n",
    "print(D)"
   ]
  },
  {
   "cell_type": "code",
   "execution_count": 4,
   "metadata": {},
   "outputs": [],
   "source": [
    "# load dataset\n",
    "tr = transforms.Compose([transforms.ToTensor(), transforms.Normalize((0.1307,), (0.3081,))])\n",
    "\n",
    "training_data = torchvision.datasets.MNIST(root='./data', train=True,\n",
    "                                      download=True, transform=tr)\n",
    "training_loader = torch.utils.data.DataLoader(training_data, batch_size=64,\n",
    "                                          shuffle=True, num_workers=1)\n",
    "\n",
    "test_data = torchvision.datasets.MNIST(root='./data', train=False,\n",
    "                                     download=True, transform=tr)\n",
    "test_loader = torch.utils.data.DataLoader(test_data, batch_size=len(test_data),\n",
    "                                         shuffle=True, num_workers=1)"
   ]
  },
  {
   "cell_type": "code",
   "execution_count": 5,
   "metadata": {},
   "outputs": [],
   "source": [
    "params = list(E.parameters()) + list(D.parameters())"
   ]
  },
  {
   "cell_type": "code",
   "execution_count": 6,
   "metadata": {},
   "outputs": [],
   "source": [
    "mse = nn.MSELoss()\n",
    "opt = optim.RMSprop(params, lr=0.001)"
   ]
  },
  {
   "cell_type": "code",
   "execution_count": 7,
   "metadata": {},
   "outputs": [],
   "source": [
    "def add_noise(inp):\n",
    "    return inp + torch.randn(inp.shape)"
   ]
  },
  {
   "cell_type": "code",
   "execution_count": 8,
   "metadata": {},
   "outputs": [
    {
     "name": "stdout",
     "output_type": "stream",
     "text": [
      "epoch:  1 batch:  100 loss: 1.68\n",
      "epoch:  1 batch:  200 loss: 1.68\n",
      "epoch:  1 batch:  300 loss: 1.635\n",
      "epoch:  1 batch:  400 loss: 1.622\n",
      "epoch:  1 batch:  500 loss: 1.641\n",
      "epoch:  1 batch:  600 loss: 1.594\n",
      "epoch:  1 batch:  700 loss: 1.565\n",
      "epoch:  1 batch:  800 loss: 1.62\n",
      "epoch:  1 batch:  900 loss: 1.557\n",
      "epoch:  2 batch:  100 loss: 1.569\n",
      "epoch:  2 batch:  200 loss: 1.594\n",
      "epoch:  2 batch:  300 loss: 1.609\n",
      "epoch:  2 batch:  400 loss: 1.547\n",
      "epoch:  2 batch:  500 loss: 1.584\n",
      "epoch:  2 batch:  600 loss: 1.557\n",
      "epoch:  2 batch:  700 loss: 1.522\n",
      "epoch:  2 batch:  800 loss: 1.533\n",
      "epoch:  2 batch:  900 loss: 1.576\n",
      "epoch:  3 batch:  100 loss: 1.537\n",
      "epoch:  3 batch:  200 loss: 1.526\n",
      "epoch:  3 batch:  300 loss: 1.552\n",
      "epoch:  3 batch:  400 loss: 1.568\n",
      "epoch:  3 batch:  500 loss: 1.543\n",
      "epoch:  3 batch:  600 loss: 1.571\n",
      "epoch:  3 batch:  700 loss: 1.542\n",
      "epoch:  3 batch:  800 loss: 1.552\n",
      "epoch:  3 batch:  900 loss: 1.486\n"
     ]
    }
   ],
   "source": [
    "epochs = 3\n",
    "history = []\n",
    "\n",
    "for i in range(0, epochs):\n",
    "    for j,(inputs, labels) in enumerate(training_loader):\n",
    "        # zero the parameter gradients\n",
    "        opt.zero_grad()\n",
    "\n",
    "        # reshape inputs\n",
    "        inputs = inputs.view(-1,28*28)\n",
    "        \n",
    "        # add noise to the inputs\n",
    "        inputs = add_noise(inputs)\n",
    "        \n",
    "        # forward pass\n",
    "        latent = E(inputs)\n",
    "        outputs = D(latent)\n",
    "        \n",
    "        # training loss\n",
    "        loss = mse(outputs, inputs)\n",
    "        history.append(loss.item())\n",
    "        \n",
    "        # backward pass\n",
    "        loss.backward()\n",
    "        opt.step()\n",
    "\n",
    "        if (j+1)%100==0:\n",
    "            print(\"epoch: {:2} batch: {:4} loss: {:3.4}\".format(i+1,j+1,history[-1]))"
   ]
  },
  {
   "cell_type": "code",
   "execution_count": 9,
   "metadata": {},
   "outputs": [
    {
     "data": {
      "text/plain": [
       "[<matplotlib.lines.Line2D at 0x1253530f0>]"
      ]
     },
     "execution_count": 9,
     "metadata": {},
     "output_type": "execute_result"
    },
    {
     "data": {
      "image/png": "[encoded data removed]",
      "text/plain": [
       "<Figure size 432x288 with 1 Axes>"
      ]
     },
     "metadata": {
      "needs_background": "light"
     },
     "output_type": "display_data"
    }
   ],
   "source": [
    "plt.plot(history);"
   ]
  },
  {
   "cell_type": "code",
   "execution_count": 10,
   "metadata": {},
   "outputs": [
    {
     "data": {
      "image/png": "[encoded data removed]",
      "text/plain": [
       "<Figure size 720x720 with 1 Axes>"
      ]
     },
     "metadata": {},
     "output_type": "display_data"
    }
   ],
   "source": [
    "from util import plot_grid\n",
    "samples = (iter(test_loader).next()[0])\n",
    "samples = add_noise(samples)\n",
    "plot_grid(samples.numpy(), grid_size=(10, 1))"
   ]
  },
  {
   "cell_type": "code",
   "execution_count": 11,
   "metadata": {},
   "outputs": [
    {
     "data": {
      "image/png": "[encoded data removed]",
      "text/plain": [
       "<Figure size 720x720 with 1 Axes>"
      ]
     },
     "metadata": {},
     "output_type": "display_data"
    }
   ],
   "source": [
    "plot_grid(D(E(samples.view(-1, 28*28))).detach().numpy(),grid_size=(10, 1))"
   ]
  },
  {
   "cell_type": "code",
   "execution_count": 12,
   "metadata": {},
   "outputs": [
    {
     "data": {
      "image/png": "[encoded data removed]",
      "text/plain": [
       "<Figure size 720x720 with 1 Axes>"
      ]
     },
     "metadata": {},
     "output_type": "display_data"
    }
   ],
   "source": [
    "plot_grid(E(samples.view(-1, 28*28)).detach().numpy(),imsize=(10,10), grid_size=(10, 1))"
   ]
  }
 ],
 "metadata": {
  "kernelspec": {
   "display_name": "Python 3",
   "language": "python",
   "name": "python3"
  },
  "language_info": {
   "codemirror_mode": {
    "name": "ipython",
    "version": 3
   },
   "file_extension": ".py",
   "mimetype": "text/x-python",
   "name": "python",
   "nbconvert_exporter": "python",
   "pygments_lexer": "ipython3",
   "version": "3.7.1"
  }
 },
 "nbformat": 4,
 "nbformat_minor": 2
}
