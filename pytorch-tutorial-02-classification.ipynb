{
 "cells": [
  {
   "cell_type": "markdown",
   "metadata": {},
   "source": [
    "## Simple MNIST classifier"
   ]
  },
  {
   "cell_type": "code",
   "execution_count": 1,
   "metadata": {},
   "outputs": [],
   "source": [
    "import numpy as np\n",
    "import matplotlib.pyplot as plt\n",
    "%matplotlib inline\n",
    "\n",
    "import torch\n",
    "import torch.nn as nn\n",
    "import torch.optim as optim\n",
    "import torch.utils.data\n",
    "import torchvision\n",
    "import torchvision.transforms as transforms"
   ]
  },
  {
   "cell_type": "code",
   "execution_count": 2,
   "metadata": {},
   "outputs": [],
   "source": [
    "class Net(nn.Module):\n",
    "    def __init__(self):\n",
    "        super(Net, self).__init__()\n",
    "        self.layer1 = nn.Sequential(\n",
    "            nn.Linear(28*28, 300), \n",
    "            nn.Dropout(0.9),\n",
    "            nn.Tanh())\n",
    "        self.layer2 = nn.Sequential(\n",
    "            nn.Linear(300, 300),\n",
    "            nn.Tanh())\n",
    "        self.layer3 = nn.Sequential(\n",
    "            nn.Linear(300, 10)\n",
    "        )\n",
    "\n",
    "    def forward(self, x):\n",
    "        x = x.view(-1, 28*28)\n",
    "        x = self.layer1(x)\n",
    "        x = self.layer2(x)\n",
    "        x = self.layer3(x)\n",
    "        return x"
   ]
  },
  {
   "cell_type": "code",
   "execution_count": 3,
   "metadata": {},
   "outputs": [
    {
     "data": {
      "text/plain": [
       "tensor([[ 0.1588,  0.1245,  0.0942, -0.1380, -0.1461,  0.0215, -0.0322, -0.0260,\n",
       "          0.2012, -0.0899]], grad_fn=<AddmmBackward>)"
      ]
     },
     "execution_count": 3,
     "metadata": {},
     "output_type": "execute_result"
    }
   ],
   "source": [
    "net = Net()\n",
    "x0 = torch.ones((28,28), requires_grad=True)\n",
    "net(x0)"
   ]
  },
  {
   "cell_type": "code",
   "execution_count": 4,
   "metadata": {},
   "outputs": [],
   "source": [
    "class ConvNet(nn.Module):\n",
    "    def __init__(self, num_classes=10):\n",
    "        super(ConvNet, self).__init__()\n",
    "        self.layer1 = nn.Sequential(\n",
    "            nn.Conv2d(1, 5, kernel_size=3, stride=1, padding=1),\n",
    "            nn.BatchNorm2d(5),\n",
    "            nn.ReLU(),\n",
    "            nn.MaxPool2d(kernel_size=2, stride=2))\n",
    "        self.layer2 = nn.Sequential(\n",
    "            nn.Conv2d(5, 5, kernel_size=3, stride=1, padding=1),\n",
    "            nn.BatchNorm2d(5),\n",
    "            nn.ReLU(),\n",
    "            nn.MaxPool2d(kernel_size=2, stride=2))\n",
    "        self.fc = nn.Linear(245, num_classes)\n",
    "        \n",
    "    def forward(self, x):\n",
    "        x = self.layer1(x)\n",
    "        x = self.layer2(x)\n",
    "        x = x.reshape(x.size(0), -1)\n",
    "        x = self.fc(x)\n",
    "        return x"
   ]
  },
  {
   "cell_type": "code",
   "execution_count": 5,
   "metadata": {},
   "outputs": [],
   "source": [
    "# load dataset\n",
    "tr = transforms.Compose([transforms.ToTensor(), transforms.Normalize((0.1307,), (0.3081,))])\n",
    "\n",
    "training_data = torchvision.datasets.MNIST(root='./data', train=True,\n",
    "                                      download=True, transform=tr)\n",
    "training_loader = torch.utils.data.DataLoader(training_data, batch_size=64,\n",
    "                                          shuffle=True, num_workers=1)\n",
    "\n",
    "test_data = torchvision.datasets.MNIST(root='./data', train=False,\n",
    "                                     download=True, transform=tr)\n",
    "test_loader = torch.utils.data.DataLoader(test_data, batch_size=len(test_data),\n",
    "                                         shuffle=True, num_workers=1)"
   ]
  },
  {
   "cell_type": "code",
   "execution_count": 6,
   "metadata": {},
   "outputs": [],
   "source": [
    "# the function parameters() is implemented in nn.Module\n",
    "net = ConvNet()\n",
    "params = list(net.parameters())"
   ]
  },
  {
   "cell_type": "code",
   "execution_count": 7,
   "metadata": {},
   "outputs": [],
   "source": [
    "cross_entropy = nn.CrossEntropyLoss() # instantiate loss \n",
    "opt = optim.Adam(params) # instantiate optimizer"
   ]
  },
  {
   "cell_type": "code",
   "execution_count": 8,
   "metadata": {},
   "outputs": [
    {
     "name": "stdout",
     "output_type": "stream",
     "text": [
      "epoch:  1 batch:  100 loss: 0.8798\n",
      "epoch:  1 batch:  200 loss: 0.5505\n",
      "epoch:  1 batch:  300 loss: 0.4206\n",
      "epoch:  1 batch:  400 loss: 0.395\n",
      "epoch:  1 batch:  500 loss: 0.2796\n",
      "epoch:  1 batch:  600 loss: 0.1575\n",
      "epoch:  1 batch:  700 loss: 0.182\n",
      "epoch:  1 batch:  800 loss: 0.09182\n",
      "epoch:  1 batch:  900 loss: 0.1969\n",
      "epoch:  2 batch:  100 loss: 0.08705\n",
      "epoch:  2 batch:  200 loss: 0.0704\n",
      "epoch:  2 batch:  300 loss: 0.1296\n",
      "epoch:  2 batch:  400 loss: 0.08984\n",
      "epoch:  2 batch:  500 loss: 0.1762\n",
      "epoch:  2 batch:  600 loss: 0.1395\n",
      "epoch:  2 batch:  700 loss: 0.1148\n",
      "epoch:  2 batch:  800 loss: 0.1691\n",
      "epoch:  2 batch:  900 loss: 0.09915\n",
      "epoch:  3 batch:  100 loss: 0.0667\n",
      "epoch:  3 batch:  200 loss: 0.142\n",
      "epoch:  3 batch:  300 loss: 0.09181\n",
      "epoch:  3 batch:  400 loss: 0.1052\n",
      "epoch:  3 batch:  500 loss: 0.09901\n",
      "epoch:  3 batch:  600 loss: 0.08164\n",
      "epoch:  3 batch:  700 loss: 0.05508\n",
      "epoch:  3 batch:  800 loss: 0.1663\n",
      "epoch:  3 batch:  900 loss: 0.08575\n"
     ]
    }
   ],
   "source": [
    "epochs = 3\n",
    "history = []\n",
    "\n",
    "for i in range(0, epochs):\n",
    "    for j,(inputs, labels) in enumerate(training_loader):\n",
    "        # zero the parameter gradients\n",
    "        opt.zero_grad()\n",
    "        \n",
    "        # regularization loss\n",
    "        reg_loss = 0\n",
    "        for param in net.parameters():\n",
    "            reg_loss += torch.sum(torch.abs(param))\n",
    "\n",
    "        # forward pass\n",
    "        outputs = net(inputs)\n",
    "        \n",
    "        # training loss\n",
    "        train_loss = cross_entropy(outputs, labels)\n",
    "        \n",
    "        # calculate total loss\n",
    "        loss = train_loss + 0.00005*reg_loss\n",
    "        history.append(loss.item())\n",
    "        \n",
    "        # backward pass\n",
    "        loss.backward()\n",
    "        opt.step()\n",
    "\n",
    "        if (j+1)%100==0:\n",
    "            print(\"epoch: {:2} batch: {:4} loss: {:3.4}\".format(i+1,j+1,history[-1]))"
   ]
  },
  {
   "cell_type": "code",
   "execution_count": 9,
   "metadata": {},
   "outputs": [
    {
     "data": {
      "text/plain": [
       "ConvNet(\n",
       "  (layer1): Sequential(\n",
       "    (0): Conv2d(1, 5, kernel_size=(3, 3), stride=(1, 1), padding=(1, 1))\n",
       "    (1): BatchNorm2d(5, eps=1e-05, momentum=0.1, affine=True, track_running_stats=True)\n",
       "    (2): ReLU()\n",
       "    (3): MaxPool2d(kernel_size=2, stride=2, padding=0, dilation=1, ceil_mode=False)\n",
       "  )\n",
       "  (layer2): Sequential(\n",
       "    (0): Conv2d(5, 5, kernel_size=(3, 3), stride=(1, 1), padding=(1, 1))\n",
       "    (1): BatchNorm2d(5, eps=1e-05, momentum=0.1, affine=True, track_running_stats=True)\n",
       "    (2): ReLU()\n",
       "    (3): MaxPool2d(kernel_size=2, stride=2, padding=0, dilation=1, ceil_mode=False)\n",
       "  )\n",
       "  (fc): Linear(in_features=245, out_features=10, bias=True)\n",
       ")"
      ]
     },
     "execution_count": 9,
     "metadata": {},
     "output_type": "execute_result"
    }
   ],
   "source": [
    "# set model to evaluation mode \n",
    "# (important for batchnorm/dropout)\n",
    "net.train(False)"
   ]
  },
  {
   "cell_type": "code",
   "execution_count": 11,
   "metadata": {},
   "outputs": [
    {
     "data": {
      "text/plain": [
       "0.9764999747276306"
      ]
     },
     "execution_count": 11,
     "metadata": {},
     "output_type": "execute_result"
    }
   ],
   "source": [
    "test_output, test_labels = [(net(data), target) for data, target in test_loader][0]\n",
    "predicted_class = test_output.max(dim = 1)[1] \n",
    "\n",
    "# compute accuracy\n",
    "(predicted_class == test_labels).float().mean().item() "
   ]
  },
  {
   "cell_type": "code",
   "execution_count": 12,
   "metadata": {},
   "outputs": [
    {
     "data": {
      "text/plain": [
       "[<matplotlib.lines.Line2D at 0x125551c18>]"
      ]
     },
     "execution_count": 12,
     "metadata": {},
     "output_type": "execute_result"
    },
    {
     "data": {
      "image/png": "[encoded data removed]",
      "text/plain": [
       "<Figure size 432x288 with 1 Axes>"
      ]
     },
     "metadata": {
      "needs_background": "light"
     },
     "output_type": "display_data"
    }
   ],
   "source": [
    "plt.plot(history);"
   ]
  },
  {
   "cell_type": "code",
   "execution_count": 13,
   "metadata": {},
   "outputs": [],
   "source": [
    "# Save model to disk\n",
    "torch.save(net.state_dict(), \"net\")"
   ]
  },
  {
   "cell_type": "code",
   "execution_count": 15,
   "metadata": {},
   "outputs": [],
   "source": [
    "# Load model\n",
    "net = ConvNet()\n",
    "net.load_state_dict(torch.load(\"net\"))"
   ]
  }
 ],
 "metadata": {
  "kernelspec": {
   "display_name": "Python 3",
   "language": "python",
   "name": "python3"
  },
  "language_info": {
   "codemirror_mode": {
    "name": "ipython",
    "version": 3
   },
   "file_extension": ".py",
   "mimetype": "text/x-python",
   "name": "python",
   "nbconvert_exporter": "python",
   "pygments_lexer": "ipython3",
   "version": "3.7.1"
  }
 },
 "nbformat": 4,
 "nbformat_minor": 2
}
